{
 "cells": [
  {
   "cell_type": "code",
   "execution_count": null,
   "metadata": {},
   "outputs": [],
   "source": [
    "import matplotlib.pyplot as plt\n",
    "import numpy\n",
    "%matplotlib inline\n",
    "import scipy.interpolate\n",
    "import topo_builder"
   ]
  },
  {
   "cell_type": "code",
   "execution_count": null,
   "metadata": {},
   "outputs": [],
   "source": [
    "# # Profile used at coasts\n",
    "# x = numpy.linspace(-.25,1.25,100)\n",
    "# x0 = 0; plt.axvline(x0, linestyle='--', color='k', label='x0')\n",
    "# L = 1; plt.axvline(x0+L, linestyle='--', color='k', label='x0+L')\n",
    "# lf = 0.125; plt.axvline(x0+lf*L, linestyle='--', color='b', label='x0+lf*L')\n",
    "# bf = 0.125; plt.axvline(x0+(lf+bf)*L, linestyle='--', color='r', label='x0+(lf+bf)*L')\n",
    "# sf = 0.5; plt.axvline(x0+(1-sf)*L, linestyle='--', color='g', label='x0+(1-sf)*L')\n",
    "# sh = 0.05; plt.axhline(-sh, linestyle=':', label='sh')\n",
    "# plt.plot(x, -topo_builder.topo.coastal_sprofile(x, x0, L, sh, lf, bf, sf) )\n",
    "# plt.grid()\n",
    "# plt.legend();"
   ]
  },
  {
   "cell_type": "code",
   "execution_count": null,
   "metadata": {},
   "outputs": [],
   "source": [
    "# NeverWorld2 domain\n",
    "NW2_lonW, NW2_lonE = 0, 60\n",
    "NW2_latS, NW2_latN = -70, 70\n",
    "\n",
    "D0 = 4000 # Nominal depth (m)\n",
    "cd = 200 # Depth of coastal shelf (m)\n",
    "drake = 2500 # Depth of Drake sill (m)\n",
    "cw = 5 # Width of coastal shelf (degrees)\n",
    "\n",
    "# Logical domain (grid points)\n",
    "nj, ni = 140, 60"
   ]
  },
  {
   "cell_type": "code",
   "execution_count": null,
   "metadata": {},
   "outputs": [],
   "source": [
    "def scurve(x, x0, dx):\n",
    "    \"\"\"Returns 0 for x<x0 or x>x+dx, and a cubic in between.\"\"\"\n",
    "    s = numpy.minimum(1, numpy.maximum(0, (x-x0)/dx))\n",
    "    return (3 - 2*s)*( s*s )\n",
    "def itau(ytau,taud,ys):\n",
    "    \"\"\"Returns a profile tau(ys) that uses s-curves between node,valuesa ytau,taud\"\"\"\n",
    "    taus = 0.*ys\n",
    "    ks = 0\n",
    "    for i in range(len(ys)):\n",
    "        y = ys[i]\n",
    "        if y>=ytau[ks+1]:\n",
    "            ks=min(len(ytau)-2,ks+1)\n",
    "        taus[i] = taud[ks] + ( taud[ks+1] - taud[ks]) * scurve(y, ytau[ks], ytau[ks+1]-ytau[ks])\n",
    "    return taus\n",
    "ytau,taud = [-70,-45,-15,0,15,45,70], [0,.2,-0.1,-.02,-.1,.1,0]\n",
    "ys = numpy.linspace(-70,70,100)\n",
    "tau = itau(ytau, taud, ys)"
   ]
  },
  {
   "cell_type": "code",
   "execution_count": null,
   "metadata": {},
   "outputs": [],
   "source": [
    "# New profile for Neverworld2\n",
    "h2 = numpy.array([25, 50, 100, 125, 150, 175, 200, 225, 250, 300, 350, 400, 500, 550, 600])\n",
    "print('Total depth =', h2.sum(), '# of layers =', h2.shape[0] )\n",
    "\n",
    "print('h = ',end='')\n",
    "for i in range(len(h2)): print(h2[i], end=', ')\n",
    "print()\n",
    "e2 = numpy.zeros( h2.shape[0]+1 )\n",
    "e2[1:] = h2.cumsum()\n",
    "ec2 = ( e2[:-1] + e2[1:] )/2\n",
    "def rrr(e, d=1000, drho=5.5):\n",
    "    fe = numpy.exp((4000-e)/d)\n",
    "    fe = fe - fe[-1]\n",
    "    fe = fe/fe[0]\n",
    "    return 1028.1 - drho * fe\n",
    "r2 = rrr(ec2).round(2)\n",
    "print('Layer = ',end='')\n",
    "for i in range(len(r2)): print(r2[i], end=', ')\n",
    "print()"
   ]
  },
  {
   "cell_type": "code",
   "execution_count": null,
   "metadata": {},
   "outputs": [],
   "source": [
    "# Side-b-side comparison for discussion purposes\n",
    "fig,axs = plt.subplots(1,1,figsize=(10,5),dpi=300)\n",
    "\n",
    "T = topo_builder.topo(nj, ni, dlon=NW2_lonE, dlat=NW2_latN-NW2_latS, lat0=NW2_latS, D=D0)\n",
    "T.add_NS_coast(NW2_lonW, -40, 90, cw, cd)\n",
    "T.add_NS_coast(NW2_lonE, -40, 90, cw, cd)\n",
    "T.add_NS_coast(NW2_lonW, -90, -60, cw, cd)\n",
    "T.add_NS_coast(NW2_lonE, -90, -60, cw, cd)\n",
    "T.add_EW_coast(-360, 360, NW2_latS, cw, cd)\n",
    "T.add_EW_coast(-360, 360, NW2_latN, cw, cd)\n",
    "T.add_circular_ridge(NW2_lonW, -50, 10, 2, drake) # Drake sill\n",
    "T.add_NS_ridge(30, -90, 90, 30, D0/2) # Mid-Atlantic ridge?\n",
    "\n",
    "plt.subplot(1,3,1)\n",
    "im = plt.pcolormesh(T.xg, T.yg, T.z, vmin=-4000);\n",
    "plt.xlabel('Longitude [$^\\circ$E]');\n",
    "plt.ylabel('Latitude [$^\\circ$N]');\n",
    "plt.title('a) Topography');\n",
    "cb = plt.colorbar(label='z [m]')\n",
    "\n",
    "plt.subplot(1,3,2)\n",
    "plt.plot(taud, ytau, 'x')\n",
    "plt.plot(tau, ys)\n",
    "plt.ylim(-70,70);\n",
    "plt.ylabel('Latitude [$^\\circ$N]');\n",
    "plt.xlabel(r'$\\tau^x$ (Pa)');\n",
    "plt.grid();\n",
    "plt.title('b) Wind stress');\n",
    "\n",
    "plt.subplot(1,3,3)\n",
    "plt.plot(r2, -ec2, 'o-')\n",
    "plt.xlabel('Layer density [kg m$^{-3}$]')\n",
    "plt.ylabel('z [m]')\n",
    "plt.ylim(-4000,0)\n",
    "plt.xlim(1022,1028.5)\n",
    "plt.grid();\n",
    "plt.title('c) Stratification');\n",
    "\n",
    "plt.tight_layout()\n",
    "\n",
    "# cb = fig.colorbar(im, ax=axs, orientation='vertical', fraction=.175)\n",
    "\n",
    "plt.savefig('fig-1.png')"
   ]
  }
 ],
 "metadata": {
  "kernelspec": {
   "display_name": "Python 3",
   "language": "python",
   "name": "python3"
  },
  "language_info": {
   "codemirror_mode": {
    "name": "ipython",
    "version": 3
   },
   "file_extension": ".py",
   "mimetype": "text/x-python",
   "name": "python",
   "nbconvert_exporter": "python",
   "pygments_lexer": "ipython3",
   "version": "3.8.2"
  }
 },
 "nbformat": 4,
 "nbformat_minor": 2
}
